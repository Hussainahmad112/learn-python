{
  "nbformat": 4,
  "nbformat_minor": 0,
  "metadata": {
    "colab": {
      "provenance": [],
      "authorship_tag": "ABX9TyPbna9nVFeNNL2ecBkwDzSl",
      "include_colab_link": true
    },
    "kernelspec": {
      "name": "python3",
      "display_name": "Python 3"
    },
    "language_info": {
      "name": "python"
    }
  },
  "cells": [
    {
      "cell_type": "markdown",
      "metadata": {
        "id": "view-in-github",
        "colab_type": "text"
      },
      "source": [
        "<a href=\"https://colab.research.google.com/github/Hussainahmad112/learn-python/blob/main/Untitled28.ipynb\" target=\"_parent\"><img src=\"https://colab.research.google.com/assets/colab-badge.svg\" alt=\"Open In Colab\"/></a>"
      ]
    },
    {
      "cell_type": "code",
      "execution_count": null,
      "metadata": {
        "id": "EKF1U6iHydgP"
      },
      "outputs": [],
      "source": [
        "name = input(\"What is your name? \")\n",
        "age = input(\"How old are you? \")\n",
        "wake_up_time = input(\"What time do you usually wake up? \")\n",
        "hobby = input(\"What is your favorite hobby? \")\n",
        "favorite_food = input(\"What is your favorite food? \")\n",
        "\n",
        "madlib = f\"My name is {name} and I am {age} years old. I usually wake up at {wake_up_time}. \" \\\n",
        "         f\"In my free time, I enjoy {hobby}. My favorite food to eat is {favorite_food}.\"\n",
        "\n",
        "madlib()"
      ]
    }
  ]
}